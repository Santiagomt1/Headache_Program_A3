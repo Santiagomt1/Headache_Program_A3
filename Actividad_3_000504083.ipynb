{
  "nbformat": 4,
  "nbformat_minor": 0,
  "metadata": {
    "colab": {
      "provenance": [],
      "authorship_tag": "ABX9TyMU2y3SS0Kotu1tqqCvNztO",
      "include_colab_link": true
    },
    "kernelspec": {
      "name": "python3",
      "display_name": "Python 3"
    },
    "language_info": {
      "name": "python"
    }
  },
  "cells": [
    {
      "cell_type": "markdown",
      "metadata": {
        "id": "view-in-github",
        "colab_type": "text"
      },
      "source": [
        "<a href=\"https://colab.research.google.com/github/Santiagomt1/Headache_Program_A3/blob/main/Actividad_3_000504083.ipynb\" target=\"_parent\"><img src=\"https://colab.research.google.com/assets/colab-badge.svg\" alt=\"Open In Colab\"/></a>"
      ]
    },
    {
      "cell_type": "code",
      "source": [
        "import math\n",
        "\n",
        "MEDIA = 1000\n",
        "DESVIACION_ESTANDAR = 300\n",
        "PORCENTAJE = 0.3\n",
        "\n",
        "x = int(input(\"Ingrese el número de iteraciones en Hz.: \"))\n",
        "prob_a = 0\n",
        "\n",
        "for i in range(x):\n",
        "  fdp = 1 / (DESVIACION_ESTANDAR * math.sqrt(2 * math.pi)) * math.exp (-1/2 * ((i - MEDIA) / DESVIACION_ESTANDAR) ** 2)\n",
        "  prob_a += fdp\n",
        "\n",
        "print(f\"La señal pasa el filtro: {prob_a:.3f}%\")if prob_a > PORCENTAJE else print(f\"La señal es bloqueada por el filtro: {prob_a:.3f}%\")\n"
      ],
      "metadata": {
        "colab": {
          "base_uri": "https://localhost:8080/"
        },
        "id": "V8B8N_UTD0c4",
        "outputId": "45e65de7-326b-44cf-93d4-866de0a31de8"
      },
      "execution_count": 272,
      "outputs": [
        {
          "output_type": "stream",
          "name": "stdout",
          "text": [
            "Ingrese el número de iteraciones en Hz.: 843\n",
            "La señal es bloqueada por el filtro: 0.299%\n"
          ]
        }
      ]
    }
  ]
}