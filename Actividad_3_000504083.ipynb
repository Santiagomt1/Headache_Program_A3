{
  "nbformat": 4,
  "nbformat_minor": 0,
  "metadata": {
    "colab": {
      "provenance": [],
      "authorship_tag": "ABX9TyMVgs5NEU2Kuit27DiBhbkA",
      "include_colab_link": true
    },
    "kernelspec": {
      "name": "python3",
      "display_name": "Python 3"
    },
    "language_info": {
      "name": "python"
    }
  },
  "cells": [
    {
      "cell_type": "markdown",
      "metadata": {
        "id": "view-in-github",
        "colab_type": "text"
      },
      "source": [
        "<a href=\"https://colab.research.google.com/github/Santiagomt1/Headache_Program_A3/blob/main/Actividad_3_000504083.ipynb\" target=\"_parent\"><img src=\"https://colab.research.google.com/assets/colab-badge.svg\" alt=\"Open In Colab\"/></a>"
      ]
    },
    {
      "cell_type": "markdown",
      "source": [
        "## Actividad Evaluativa 3\n",
        "\n",
        " **Fecha:** _22 de marzo de 2024_\n",
        "\n",
        " **Presentado por:** _Santiago Mangones Torres_\n",
        "\n",
        " **Email:** santiago.mangones@upb.edu.co"
      ],
      "metadata": {
        "id": "gswIozLWkUA1"
      }
    },
    {
      "cell_type": "code",
      "source": [
        "import math\n",
        "\n",
        "MEDIA = 1000\n",
        "DESVIACION_ESTANDAR = 300\n",
        "PORCENTAJE = 0.3\n",
        "\n",
        "x = int(input(\"Ingrese el número de iteraciones en Hz: \"))\n",
        "prob_acumulado = 0\n",
        "\n",
        "for i in range(1, x):\n",
        "  fdp = 1 / (DESVIACION_ESTANDAR * math.sqrt(2 * math.pi)) * math.exp (-1/2 * ((i - MEDIA) / DESVIACION_ESTANDAR) ** 2)\n",
        "  prob_acumulado += fdp\n",
        "\n",
        "print(\"-\"*60)\n",
        "print(f\"La señal pasa el filtro: {prob_acumulado}%\")if prob_acumulado > PORCENTAJE else print(f\"La señal es bloqueada por el filtro: {prob_acumulado}%\")"
      ],
      "metadata": {
        "id": "uVquhdS9wEWI"
      },
      "execution_count": null,
      "outputs": []
    }
  ]
}